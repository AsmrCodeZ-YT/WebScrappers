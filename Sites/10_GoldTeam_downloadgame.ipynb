{
 "cells": [
  {
   "cell_type": "code",
   "execution_count": 1,
   "metadata": {},
   "outputs": [
    {
     "name": "stdout",
     "output_type": "stream",
     "text": [
      "Requirement already satisfied: bs4 in e:\\python\\data save\\.venv\\lib\\site-packages (0.0.2)\n",
      "Requirement already satisfied: beautifulsoup4 in e:\\python\\data save\\.venv\\lib\\site-packages (from bs4) (4.12.3)\n",
      "Requirement already satisfied: soupsieve>1.2 in e:\\python\\data save\\.venv\\lib\\site-packages (from beautifulsoup4->bs4) (2.5)\n"
     ]
    }
   ],
   "source": [
    "!pip install bs4\n",
    "!pip install requests\n",
    "!pip install pandas"
   ]
  },
  {
   "cell_type": "markdown",
   "metadata": {},
   "source": [
    "# Single Page"
   ]
  },
  {
   "cell_type": "code",
   "execution_count": 103,
   "metadata": {},
   "outputs": [
    {
     "name": "stdout",
     "output_type": "stream",
     "text": [
      "8 8 8 8 8\n"
     ]
    }
   ],
   "source": [
    "from bs4 import BeautifulSoup\n",
    "import requests\n",
    "import pandas as pd\n",
    "\n",
    "\n",
    "url = \"https://gold-team.org/page/1/\"\n",
    "res = requests.get(url)\n",
    "soup = BeautifulSoup(res.content, 'html.parser')\n",
    "titles = [i.find(\"h3\", attrs={\"class\": \"rd-title\"}).find(\"a\").text for i in soup.find_all(\"div\", attrs={\"class\": \"rd-details\"})][20:-18]\n",
    "links = [i.find(\"h3\", attrs={\"class\": \"rd-title\"}).find(\"a\").get(\"href\") for i in soup.find_all(\"div\", attrs={\"class\": \"rd-details\"})][20:-18]\n",
    "comments = [i.text for i in soup.find_all(\"li\", attrs={\"class\": \"rd-comment\"})]\n",
    "views = [i.text for i in soup.find_all(\"li\", attrs={\"class\": \"rd-view\"})]\n",
    "times = [i.text for i in soup.find_all(\"li\", attrs={\"class\": \"rd-date\"})]\n",
    "\n",
    "print(len(titles), len(comments), len(views), len(times), len(links))\n"
   ]
  },
  {
   "cell_type": "code",
   "execution_count": 104,
   "metadata": {},
   "outputs": [
    {
     "name": "stdout",
     "output_type": "stream",
     "text": [
      "Num : 1, 8 8 8 8 8\n",
      "Num : 2, 8 8 8 8 8\n",
      "Num : 3, 8 8 8 8 8\n",
      "Num : 4, 8 8 8 8 8\n",
      "Num : 5, 8 8 8 8 8\n",
      "Num : 6, 8 8 8 8 8\n",
      "Num : 7, 8 8 8 8 8\n",
      "Num : 8, 8 8 8 8 8\n",
      "Num : 9, 8 8 8 8 8\n",
      "Num : 10, 8 8 8 8 8\n",
      "Num : 11, 8 8 8 8 8\n",
      "Num : 12, 8 8 8 8 8\n",
      "Num : 13, 8 8 8 8 8\n",
      "Num : 14, 8 8 8 8 8\n",
      "Num : 15, 8 8 8 8 8\n",
      "Num : 16, 8 8 8 8 8\n",
      "Num : 17, 8 8 8 8 8\n",
      "Num : 18, 8 8 8 8 8\n",
      "Num : 19, 8 8 8 8 8\n",
      "Num : 20, 8 8 8 8 8\n",
      "Num : 21, 8 8 8 8 8\n",
      "Num : 22, 8 8 8 8 8\n",
      "Num : 23, 8 8 8 8 8\n",
      "Num : 24, 8 8 8 8 8\n",
      "Num : 25, 8 8 8 8 8\n",
      "Num : 26, 8 8 8 8 8\n",
      "Num : 27, 8 8 8 8 8\n",
      "Num : 28, 8 8 8 8 8\n",
      "Num : 29, 8 8 8 8 8\n",
      "Num : 30, 8 8 8 8 8\n",
      "Num : 31, 8 8 8 8 8\n",
      "Num : 32, 8 8 8 8 8\n",
      "Num : 33, 8 8 8 8 8\n",
      "Num : 34, 8 8 8 8 8\n",
      "Num : 35, 8 8 8 8 8\n",
      "Num : 36, 8 8 8 8 8\n",
      "Num : 37, 8 8 8 8 8\n",
      "Num : 38, 8 8 8 8 8\n",
      "Num : 39, 8 8 8 8 8\n",
      "Num : 40, 8 8 8 8 8\n",
      "Num : 41, 8 8 8 8 8\n",
      "Num : 42, 8 8 8 8 8\n",
      "Num : 43, 8 8 8 8 8\n",
      "Num : 44, 8 8 8 8 8\n",
      "Num : 45, 8 8 8 8 8\n",
      "Num : 46, 8 8 8 8 8\n",
      "Num : 47, 8 8 8 8 8\n",
      "Num : 48, 8 8 8 8 8\n",
      "Num : 49, 8 8 8 8 8\n",
      "Num : 50, 8 8 8 8 8\n",
      "Num : 51, 8 8 8 8 8\n",
      "Num : 52, 8 8 8 8 8\n",
      "Num : 53, 8 8 8 8 8\n",
      "Num : 54, 8 8 8 8 8\n",
      "Num : 55, 8 8 8 8 8\n",
      "Num : 56, 8 8 8 8 8\n",
      "Num : 57, 8 8 8 8 8\n",
      "Num : 58, 8 8 8 8 8\n",
      "Num : 59, 8 8 8 8 8\n",
      "Num : 60, 8 8 8 8 8\n",
      "Num : 61, 8 8 8 8 8\n",
      "Num : 62, 8 8 8 8 8\n",
      "Num : 63, 8 8 8 8 8\n",
      "Num : 64, 8 8 8 8 8\n",
      "Num : 65, 8 8 8 8 8\n",
      "Num : 66, 8 8 8 8 8\n",
      "Num : 67, 8 8 8 8 8\n",
      "Num : 68, 8 8 8 8 8\n",
      "Num : 69, 8 8 8 8 8\n",
      "Num : 70, 8 8 8 8 8\n",
      "Num : 71, 8 8 8 8 8\n",
      "Num : 72, 8 8 8 8 8\n",
      "Num : 73, 8 8 8 8 8\n",
      "Num : 74, 8 8 8 8 8\n"
     ]
    }
   ],
   "source": [
    "\n",
    "\n",
    "df = pd.DataFrame()\n",
    "PAGENUMBER = 75\n",
    "\n",
    "for num in range(1,PAGENUMBER):\n",
    "\n",
    "    url = f\"https://gold-team.org/page/{num}/\"\n",
    "    res = requests.get(url)\n",
    "    soup = BeautifulSoup(res.content, 'html.parser')\n",
    "\n",
    "    titles = [i.find(\"h3\", attrs={\"class\": \"rd-title\"}).find(\"a\").text for i in soup.find_all(\"div\", attrs={\"class\": \"rd-details\"})][20:-18]\n",
    "    links = [i.find(\"h3\", attrs={\"class\": \"rd-title\"}).find(\"a\").get(\"href\") for i in soup.find_all(\"div\", attrs={\"class\": \"rd-details\"})][20:-18]\n",
    "    comments = [i.text for i in soup.find_all(\"li\", attrs={\"class\": \"rd-comment\"})]\n",
    "    views = [i.text for i in soup.find_all(\"li\", attrs={\"class\": \"rd-view\"})]\n",
    "    times = [i.text for i in soup.find_all(\"li\", attrs={\"class\": \"rd-date\"})]\n",
    "\n",
    "   \n",
    "    print(f\"Num : {num},\",len(titles), len(comments), len(views), len(times), len(links))\n",
    "\n",
    "    df2 = pd.DataFrame(list(zip(titles, comments, views, times, links)),\n",
    "               columns =['titles', 'comments', \"views\", \"times\", \"links\"])\n",
    "    df = pd.concat([df, df2], ignore_index=True)\n",
    "\n",
    "# save file\n",
    "df.to_csv(f\"gold-team_{PAGENUMBER}.csv\")\n"
   ]
  },
  {
   "cell_type": "markdown",
   "metadata": {},
   "source": [
    "# Cleaning dataset\n"
   ]
  },
  {
   "cell_type": "code",
   "execution_count": null,
   "metadata": {},
   "outputs": [],
   "source": [
    "def clear_comment(x):\n",
    "    x = x.split()[0]\n",
    "\n",
    "    if x == \"بدون\":\n",
    "        x = 0\n",
    "        return x\n",
    "    elif \",\" in x:\n",
    "        x = x.replace(\",\", \"\")\n",
    "        return int(x)\n",
    "    \n",
    "    elif \"دیدگاه\" in x:\n",
    "        return 0\n",
    "    else :\n",
    "        return int(x)\n",
    "    \n",
    "df[\"comments\"] = df[\"comments\"].apply(lambda x: clear_comment(x))\n",
    "df[\"views\"] = df[\"views\"].apply(lambda x:int(x.split()[0]))\n",
    "df.sort_values(\"comments\", ascending=False).head(10)\n",
    "\n",
    "# df.to_excel(\"teamgold75page.xlsx\") \n"
   ]
  }
 ],
 "metadata": {
  "kernelspec": {
   "display_name": ".venv",
   "language": "python",
   "name": "python3"
  },
  "language_info": {
   "codemirror_mode": {
    "name": "ipython",
    "version": 3
   },
   "file_extension": ".py",
   "mimetype": "text/x-python",
   "name": "python",
   "nbconvert_exporter": "python",
   "pygments_lexer": "ipython3",
   "version": "3.12.4"
  }
 },
 "nbformat": 4,
 "nbformat_minor": 2
}
