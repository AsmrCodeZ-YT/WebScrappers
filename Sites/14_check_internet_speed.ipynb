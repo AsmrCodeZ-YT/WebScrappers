{
 "cells": [
  {
   "cell_type": "code",
   "execution_count": 433,
   "metadata": {},
   "outputs": [
    {
     "name": "stdout",
     "output_type": "stream",
     "text": [
      "RUN Modem ==> 0:43:01\n",
      "Speed Upload/Download: 0.0016 / 0.0008 MB\n",
      "Total Upload/Download: 0.0108 / 0.0204 GB\n",
      "Max Upload/Download: 3.8795 / 28.096 MB\n"
     ]
    }
   ],
   "source": [
    "import requests\n",
    "from bs4 import BeautifulSoup\n",
    "from datetime import timedelta\n",
    "\n",
    "url = \"http://192.168.1.1/api/monitoring/traffic-statistics\"\n",
    "res = requests.get(url)\n",
    "soup = BeautifulSoup(res.content, 'html.parser')\n",
    "time = int(soup.find(\"currentconnecttime\").text)\n",
    "time = timedelta(seconds=time)\n",
    "\n",
    "# currentupload = int(soup.find(\"currentupload\").text)*8/1024**2\n",
    "# currentdownload = int(soup.find(\"currentdownload\").text)*8/1024**2\n",
    "\n",
    "currentuploadrate = round(int(soup.find(\"currentuploadrate\").text)*8/1024**2,4)\n",
    "currentdownloadrate = round(int(soup.find(\"currentdownloadrate\").text)*8/1024**2,4)\n",
    "\n",
    "totalupload = round(int(soup.find(\"totalupload\").text)/1024**3, 4)\n",
    "totaldownload = round( int(soup.find(\"totaldownload\").text)/1024**3,4) \n",
    "\n",
    "maxuploadrate = round(int(soup.find(\"maxuploadrate\").text)*8/1024**2, 4) \n",
    "maxdownloadrate = round(int(soup.find(\"maxdownloadrate\").text)*8/1024**2,4)\n",
    "\n",
    "print(f\"RUN Modem ==> {time}\" ,end=\"\\r\")\n",
    "print(f\"Speed Upload/Download: {currentuploadrate} / {currentdownloadrate} MB\")\n",
    "print(f\"Total Upload/Download: {totalupload} / {totaldownload} GB\")\n",
    "print(f\"Max Upload/Download: {maxuploadrate} / {maxdownloadrate} MB\")\n"
   ]
  },
  {
   "cell_type": "code",
   "execution_count": null,
   "metadata": {},
   "outputs": [],
   "source": [
    "import requests\n",
    "from bs4 import BeautifulSoup\n",
    "from datetime import timedelta\n",
    "from time import sleep\n",
    "\n",
    "\n",
    "for i in range(6):\n",
    "    url = \"http://192.168.1.1/api/monitoring/traffic-statistics\"\n",
    "    res = requests.get(url)\n",
    "    soup = BeautifulSoup(res.content, \"html.parser\")\n",
    "    time = int(soup.find(\"currentconnecttime\").text)\n",
    "    time = timedelta(seconds=time)\n",
    "\n",
    "    # currentupload = int(soup.find(\"currentupload\").text)*8/1024**2\n",
    "    # currentdownload = int(soup.find(\"currentdownload\").text)*8/1024**2\n",
    "\n",
    "    currentuploadrate = round(int(soup.find(\"currentuploadrate\").text) * 8 / 1024**2, 4)\n",
    "    currentdownloadrate = round(\n",
    "        int(soup.find(\"currentdownloadrate\").text) * 8 / 1024**2, 4\n",
    "    )\n",
    "\n",
    "    totalupload = round(int(soup.find(\"totalupload\").text) / 1024**3, 4)\n",
    "    totaldownload = round(int(soup.find(\"totaldownload\").text) / 1024**3, 4)\n",
    "\n",
    "    maxuploadrate = round(int(soup.find(\"maxuploadrate\").text) * 8 / 1024**2, 4)\n",
    "    maxdownloadrate = round(int(soup.find(\"maxdownloadrate\").text) * 8 / 1024**2, 4)\n",
    "\n",
    "    print(\"\\r\")\n",
    "    temp = f\"\"\"RUN Modem ==> {time}\n",
    "Speed Upload/Download: {currentuploadrate} / {currentdownloadrate} MB\n",
    "Total Upload/Download: {totalupload} / {totaldownload} GB\n",
    "Max Upload/Download: {maxuploadrate} / {maxdownloadrate} MB\"\"\"\n",
    "\n",
    "    print(temp, end=\"\\r\")\n",
    "    sleep(2)\n"
   ]
  },
  {
   "cell_type": "code",
   "execution_count": 437,
   "metadata": {},
   "outputs": [
    {
     "name": "stdout",
     "output_type": "stream",
     "text": [
      "RUN Modem ==> 0:43:01\n",
      "Speed Upload/Download: 0.0016 / 0.0008 MB\n",
      "Total Upload/Download: 0.0108 / 0.0204 GB\n",
      "Max Upload/Download: 3.8795 / 28.096 MB\n"
     ]
    }
   ],
   "source": [
    "a = f\"\"\"RUN Modem ==> {time}\n",
    "Speed Upload/Download: {currentuploadrate} / {currentdownloadrate} MB\n",
    "Total Upload/Download: {totalupload} / {totaldownload} GB\n",
    "Max Upload/Download: {maxuploadrate} / {maxdownloadrate} MB\"\"\"\n",
    "print(a)"
   ]
  },
  {
   "cell_type": "code",
   "execution_count": 77,
   "metadata": {},
   "outputs": [
    {
     "data": {
      "text/plain": [
       "496.5703125"
      ]
     },
     "execution_count": 77,
     "metadata": {},
     "output_type": "execute_result"
    }
   ],
   "source": [
    "from time import sleep\n",
    "\n",
    "for i in range(5):\n",
    "    temp = f\"RUN Modem ==> {i}\"\n",
    "    temp2 = f\"Speed Upload/Download: {i} / {i} MB\"\n",
    "    # Total Upload/Download: {i} / {i} GB\n",
    "    # Max Upload/Download: {i} / {i} MB\"\"\"\n",
    "    print(temp, end=\"\\r\")\n",
    "    print(temp2, end=\"\\n\")\n",
    "\n",
    "    sleep(2)\n",
    "print(\"\\n\")\n"
   ]
  }
 ],
 "metadata": {
  "kernelspec": {
   "display_name": ".venv",
   "language": "python",
   "name": "python3"
  },
  "language_info": {
   "codemirror_mode": {
    "name": "ipython",
    "version": 3
   },
   "file_extension": ".py",
   "mimetype": "text/x-python",
   "name": "python",
   "nbconvert_exporter": "python",
   "pygments_lexer": "ipython3",
   "version": "3.12.5"
  }
 },
 "nbformat": 4,
 "nbformat_minor": 2
}
