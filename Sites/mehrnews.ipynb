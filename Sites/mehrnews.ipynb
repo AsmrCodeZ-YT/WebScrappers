{
 "cells": [
  {
   "cell_type": "code",
   "execution_count": null,
   "metadata": {},
   "outputs": [],
   "source": [
    "from requests_html import HTMLSession\n",
    "from selectolax.parser import HTMLParser\n",
    "import pandas as pd\n",
    "import csv\n",
    "import os\n"
   ]
  },
  {
   "cell_type": "code",
   "execution_count": 167,
   "metadata": {},
   "outputs": [],
   "source": [
    "session = HTMLSession()\n",
    "\n",
    "year = 1400\n",
    "month = 1\n",
    "day = 25\n",
    "defualt_page = 1\n",
    "target_page = 4\n",
    "link_new = f\"https://www.mehrnews.com/page/archive.xhtml?mn={month}&wide=0&dy={day}&ms=0&pi={defualt_page}&yr={year}\"\n",
    "s = session.get(link_new)\n",
    "node = HTMLParser(s.text)\n"
   ]
  },
  {
   "cell_type": "code",
   "execution_count": 165,
   "metadata": {},
   "outputs": [],
   "source": [
    "def add_csv_to_another(source_file, destination_file):\n",
    "    with open(source_file, 'r', newline='', encoding='utf-8') as source_csv_file:\n",
    "        with open(destination_file, 'a', newline='', encoding='utf-8') as destination_csv_file:\n",
    "            source_csv_reader = csv.reader(source_csv_file)\n",
    "            destination_csv_writer = csv.writer(destination_csv_file)\n",
    "\n",
    "            for row in source_csv_reader:\n",
    "                destination_csv_writer.writerow(row)\n",
    "\n",
    "def file_check_exist(filne_name):\n",
    "    \n",
    "    filne_name = filne_name\n",
    "    if not os.path.exists(filne_name):\n",
    "        with open(filne_name, \"w\") as file:\n",
    "            file\n",
    "        print(\"file no exist : but now created\")\n",
    "    else:\n",
    "        print(\"file has been created \")"
   ]
  },
  {
   "cell_type": "code",
   "execution_count": 168,
   "metadata": {},
   "outputs": [
    {
     "name": "stdout",
     "output_type": "stream",
     "text": [
      "file no exist : but now created\n",
      "https://www.mehrnews.com/page/archive.xhtml?mn=1&wide=0&dy=25&ms=0&pi=1&yr=1400\n",
      "file has been created \n",
      "https://www.mehrnews.com/page/archive.xhtml?mn=1&wide=0&dy=25&ms=0&pi=2&yr=1400\n",
      "file has been created \n",
      "https://www.mehrnews.com/page/archive.xhtml?mn=1&wide=0&dy=25&ms=0&pi=3&yr=1400\n"
     ]
    }
   ],
   "source": [
    "while (defualt_page < target_page):\n",
    "    \n",
    "    destination_csv_file_path = \"info.csv\"\n",
    "    file_check_exist(destination_csv_file_path) #create info.csv\n",
    "    source_csv_file_path = f'info_page_{defualt_page}.csv'\n",
    "    \n",
    "    link_new = f\"https://www.mehrnews.com/page/archive.xhtml?mn={month}&wide=0&dy={day}&ms=0&pi={defualt_page}&yr={year}\"\n",
    "    title_len  = node.css(\".col-sm-8 #box517 li  h3\")   #more title (header)\n",
    "    title_more = node.css(\".col-sm-8 #box517 li  p\")    #more title (abstrac)\n",
    "    time       = node.css(\".col-sm-8 #box517 li  time\") #time of article\n",
    "    link       = node.css(\".col-sm-8 #box517 li  h3 a\")\n",
    "    #extract \n",
    "    titles_list  = [title_len[n].text().strip() for n in range(len(title_len))] \n",
    "    titlesM_list = [title_more[n].text().strip() for n in range(len(title_more))] \n",
    "    time_list    = [time[n].text().strip() for n in range(len(time))] \n",
    "    link_list    = [\"https://www.mehrnews.com/\" + link[n].attributes[\"href\"] for n in range(len(link))] \n",
    "\n",
    "    lst = ['fav', 'tutor', 'coding', 'skills']\n",
    "    df = pd.DataFrame(list(zip(titles_list, titlesM_list ,time_list ,link_list)), columns =['titles', 'titleMs','times','links']) \n",
    "    df.to_csv(source_csv_file_path)\n",
    "    \n",
    "    add_csv_to_another(source_csv_file_path, destination_csv_file_path)\n",
    "    defualt_page += 1\n",
    "    \n",
    "    print(link_new)\n",
    "    \n"
   ]
  },
  {
   "cell_type": "code",
   "execution_count": 152,
   "metadata": {},
   "outputs": [
    {
     "data": {
      "text/plain": [
       "30"
      ]
     },
     "execution_count": 152,
     "metadata": {},
     "output_type": "execute_result"
    }
   ],
   "source": [
    "title_len  = node.css(\".col-sm-8 #box517 li  h3\")   #more title (header)\n",
    "title_more = node.css(\".col-sm-8 #box517 li  p\")    #more title (abstrac)\n",
    "time       = node.css(\".col-sm-8 #box517 li  time\") #time of article\n",
    "link       = node.css(\".col-sm-8 #box517 li  h3 a\")\n",
    "len(link)"
   ]
  },
  {
   "cell_type": "code",
   "execution_count": 153,
   "metadata": {},
   "outputs": [],
   "source": [
    "titles_list  = [title_len[n].text().strip() for n in range(len(title_len))] \n",
    "titlesM_list = [title_more[n].text().strip() for n in range(len(title_more))] \n",
    "time_list    = [time[n].text().strip() for n in range(len(time))] \n",
    "link_list    = [\"https://www.mehrnews.com/\" + link[n].attributes[\"href\"] for n in range(len(link))] "
   ]
  },
  {
   "cell_type": "code",
   "execution_count": 154,
   "metadata": {},
   "outputs": [
    {
     "data": {
      "text/plain": [
       "['روند خروج نظامیان آمریکا از افغانستان از یکم ماه مه آغاز می شود',\n",
       " 'ضرورت حفظ حرمت و شئونات ماه مبارک رمضان در لرستان',\n",
       " 'جذب ۸۲ درصدی تسهیلات مسکن روستایی در اسفراین',\n",
       " 'بانک مرکزی هیچگاه به دولت بدهکار نبوده و نخواهد شد',\n",
       " 'تساوی تیم های فوتبال الریان و گوا به نفع پرسپولیس',\n",
       " 'مهرام حریف شهرداری گرگان در فینال شد',\n",
       " 'بستری شدن ۵۶۵ بیمار کرونایی در بیمارستان های کردستان',\n",
       " 'وزارت خارجه سوریه استفاده از گازهای سمی علیه معارضان را تکذیب کرد',\n",
       " '۵۰ بیمار جدید کرونایی در زنجان شناسایی شدند',\n",
       " 'ایران مقدمات آغاز غنی سازی ۶۰ درصدی را تقریباً تکمیل کرده است',\n",
       " 'تشریح برنامه فرهنگی و قرآنی ویژه ماه مبارک رمضان در کردستان',\n",
       " 'نشستی با محوریت «آداب روزه داری، احوال روزه داران» برگزار می شود',\n",
       " 'بازگشایی جاده قدیم ساوه پس از ۵ ساعت تلاش',\n",
       " '۲۴ طرح جهش تولید در استان سمنان تائید شد',\n",
       " '۱۰۰میلیارد ریال برای ستاد بازسازی عتبات سمنان اعتبار نیاز است',\n",
       " 'داوطلبان انتخابات شورای اسلامی روستاهای سمنان ۱۰ درصد بیشتر شدند',\n",
       " 'سهم ۲۵ درصدی خرمشهر از دریافت تسهیلات کرونایی',\n",
       " 'اخطار به پیمانکار پروژه استادیوم ۵ هزار نفری پیشوا',\n",
       " 'از بردن پرسپولیس بیشتر از گلزنی\\u200cام خوشحالم/ شرایط سختی داریم',\n",
       " 'یک کشته و شش مصدوم در تصادف محور سنندج به دیواندره',\n",
       " 'می\\u200cتوانستیم امشب پیروز شویم/ پاختاکور فقط ۳ موقعیت داشت',\n",
       " 'لزوم توسعه بانک\\u200cهای نشا برنج/ کشاورزان برای انجام بیمه محصولات ترغیب شوند',\n",
       " 'ویروس کرونا روابط ترانزیتی ایران و ترکیه را کاهش داده است',\n",
       " 'نخست\\u200cوزیر ارمنستان جزئیات استعفای خود را اعلام کرد',\n",
       " 'بی\\u200cعملی سازمان ملل و آژانس رژیم صهیونیستی را گستاخ\\u200cتر کرده است',\n",
       " 'نشست آتی کمیسیون مشترک برجام فردا برگزار می\\u200cشود',\n",
       " 'توسعه روابط با کشورهای همسایه به صورت جدی دنبال می\\u200cشود',\n",
       " 'سازمان سیا: خروج نظامیان آمریکا از افغانستان خطرناک است!',\n",
       " 'ملی پوش بوکس مقابل حریف کلمبیایی به پیروزی رسید',\n",
       " 'تراکتور بازی برده را مساوی کرد/ شاگردان خطیبی در ۱۳ دقیقه ۳ گل خوردند!']"
      ]
     },
     "execution_count": 154,
     "metadata": {},
     "output_type": "execute_result"
    }
   ],
   "source": [
    "titles_list\n",
    "\n"
   ]
  },
  {
   "cell_type": "code",
   "execution_count": 155,
   "metadata": {},
   "outputs": [],
   "source": [
    "\n",
    "lst = ['fav', 'tutor', 'coding', 'skills']\n",
    "# Calling DataFrame constructor on list \n",
    "df = pd.DataFrame(list(zip(titles_list, titlesM_list ,time_list ,link_list)), columns =['titles', 'titleMs','times','links']) \n",
    "\n",
    "df.to_csv('file_name.csv')\n"
   ]
  },
  {
   "cell_type": "code",
   "execution_count": null,
   "metadata": {},
   "outputs": [],
   "source": [
    "pd.read_csv(\"file_name copy.csv\")"
   ]
  }
 ],
 "metadata": {
  "kernelspec": {
   "display_name": ".venv",
   "language": "python",
   "name": "python3"
  },
  "language_info": {
   "codemirror_mode": {
    "name": "ipython",
    "version": 3
   },
   "file_extension": ".py",
   "mimetype": "text/x-python",
   "name": "python",
   "nbconvert_exporter": "python",
   "pygments_lexer": "ipython3",
   "version": "3.11.1"
  },
  "orig_nbformat": 4
 },
 "nbformat": 4,
 "nbformat_minor": 2
}
